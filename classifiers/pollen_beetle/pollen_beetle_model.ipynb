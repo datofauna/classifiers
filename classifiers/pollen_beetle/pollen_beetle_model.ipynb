{
 "cells": [
  {
   "cell_type": "code",
   "execution_count": 1,
   "metadata": {},
   "outputs": [
    {
     "name": "stdout",
     "output_type": "stream",
     "text": [
      "*** FP-modules version 2.7.9 ***\n"
     ]
    }
   ],
   "source": [
    "import sys\n",
    "sys.path.append('/home/frth/notebooks')\n",
    "\n",
    "import fpmodules as fp\n",
    "import fpmodules.tools as fk\n",
    "\n",
    "feature_id = list(fk.get_feature_ids().values())\n",
    "import sys\n",
    "from fplearn.processing import  mlready_data, compile_process_segmented_data\n",
    "from fplearn.run import run_model, evaluate_model\n",
    "from fplearn.tsne import TSNEplot\n",
    "\n",
    "import matplotlib.pyplot as plt\n",
    "import numpy as np"
   ]
  },
  {
   "cell_type": "code",
   "execution_count": 2,
   "metadata": {},
   "outputs": [],
   "source": [
    "species = {\n",
    "    'Pollen_beetle/Danes': 816,\n",
    "    'Pollen_beetle/Swiss': 777,\n",
    "    'Drosophilidae/Swiss': 794,\n",
    "    'Honeybee': 805,\n",
    "    'Greenhouse rove beetle': 409,\n",
    "    'Cabbage steam weevil': 773,\n",
    "    'Mealy cabbage aphid': 962,\n",
    "    'Aphis gossipii': 988,\n",
    "    'Lygocoris pabulinus': 1118,\n",
    "    'Aphis fabae': 513,\n",
    "    'Cabbage seed weevil': 873,\n",
    "    'Codling moth': 588,\n",
    "    'Pod midge': 985,\n",
    "    'Bumblebee': 462,\n",
    "    'Parasitic wasp': 750,\n",
    "    'Green lacewing': 646,\n",
    "    'Tersilochus heterocerus': 879,\n",
    "    'House fly': 469,\n",
    "    'Common green bottle fly': 452,\n",
    "    'Aphid gall midge': 567,\n",
    "    'Migrant hoverfly': 478\n",
    "}\n",
    "labels = list(species.keys())"
   ]
  },
  {
   "cell_type": "code",
   "execution_count": 4,
   "metadata": {},
   "outputs": [],
   "source": [
    "#for l in labels:\n",
    "#    path='/home/' + user + '/EventCache/Events/' + str(species[l]['session'])\n",
    "#    fp.download_events(id_list=species[l]['meas_id'],multi=True, path=path)"
   ]
  },
  {
   "cell_type": "code",
   "execution_count": 3,
   "metadata": {},
   "outputs": [],
   "source": [
    "[species[s]['session'] for s in species]\n",
    "session_groups = [816,777]#[[816, 777, 1014],  794, 805, 409, 773, 962, 988, 1118, 513, 873, 588, 985, 462, 750, 646, 879, 469, 452, 567, 478]\n",
    "maxlist = [10,10]#[[100, 100, 100]] + [100]*19\n",
    "startdateid = [20210101, None]"
   ]
  },
  {
   "cell_type": "code",
   "execution_count": 6,
   "metadata": {},
   "outputs": [],
   "source": [
    "#for s in species:\n",
    "#    print(len(fp.get_insects(sessionid=species[s]['session'])))"
   ]
  },
  {
   "cell_type": "code",
   "execution_count": 4,
   "metadata": {},
   "outputs": [
    {
     "name": "stdout",
     "output_type": "stream",
     "text": [
      "{'startdateid': 20210101, 'enddateid': None, 'starttimeid': None, 'endtimeid': None}\n",
      "Some files exist, not downloading again.\n",
      "100% complete      [==================================================]\n",
      "\n",
      "{'startdateid': None, 'enddateid': None, 'starttimeid': None, 'endtimeid': None}\n",
      "Some files exist, not downloading again.\n",
      "100% complete      [==================================================]\n",
      "\n"
     ]
    }
   ],
   "source": [
    "data, labels, files, raw, mid, seg, wave = \\\n",
    "    compile_process_segmented_data(session_groups, '/home/frth/EventCache/Events', \n",
    "                                   maxlist, split_channels=True, data_length=1000, verbose=0, startdateid=startdateid)"
   ]
  },
  {
   "cell_type": "code",
   "execution_count": 9,
   "metadata": {},
   "outputs": [
    {
     "ename": "ValueError",
     "evalue": "Found input variables with inconsistent numbers of samples: [169918, 20, 40, 20, 40, 40, 20]",
     "output_type": "error",
     "traceback": [
      "\u001B[0;31m---------------------------------------------------------------------------\u001B[0m",
      "\u001B[0;31mValueError\u001B[0m                                Traceback (most recent call last)",
      "\u001B[0;32m<ipython-input-9-5fd84dce9f9e>\u001B[0m in \u001B[0;36m<module>\u001B[0;34m\u001B[0m\n\u001B[1;32m      2\u001B[0m (Xt, Xv, Xe, Yt, Yv, Ye, \\\n\u001B[1;32m      3\u001B[0m  ft, fv, fe, rt, rv, re, mt, mv, me, st, sv, se, wt, wv, we), cw = \\\n\u001B[0;32m----> 4\u001B[0;31m     \u001B[0mmlready_data\u001B[0m\u001B[0;34m(\u001B[0m\u001B[0mdata\u001B[0m\u001B[0;34m,\u001B[0m \u001B[0mlabels\u001B[0m\u001B[0;34m,\u001B[0m \u001B[0mfiles\u001B[0m\u001B[0;34m,\u001B[0m \u001B[0mraw\u001B[0m\u001B[0;34m,\u001B[0m \u001B[0mmid\u001B[0m\u001B[0;34m,\u001B[0m \u001B[0mseg\u001B[0m\u001B[0;34m,\u001B[0m \u001B[0mwave\u001B[0m\u001B[0;34m)\u001B[0m\u001B[0;34m\u001B[0m\u001B[0;34m\u001B[0m\u001B[0m\n\u001B[0m\u001B[1;32m      5\u001B[0m \u001B[0mXt\u001B[0m \u001B[0;34m=\u001B[0m \u001B[0mXt\u001B[0m\u001B[0;34m.\u001B[0m\u001B[0mreshape\u001B[0m\u001B[0;34m(\u001B[0m\u001B[0;34m[\u001B[0m\u001B[0;34m-\u001B[0m\u001B[0;36m1\u001B[0m\u001B[0;34m,\u001B[0m \u001B[0mdata_length\u001B[0m\u001B[0;34m,\u001B[0m \u001B[0;36m1\u001B[0m\u001B[0;34m]\u001B[0m\u001B[0;34m)\u001B[0m\u001B[0;34m\u001B[0m\u001B[0;34m\u001B[0m\u001B[0m\n\u001B[1;32m      6\u001B[0m \u001B[0mXv\u001B[0m \u001B[0;34m=\u001B[0m \u001B[0mXv\u001B[0m\u001B[0;34m.\u001B[0m\u001B[0mreshape\u001B[0m\u001B[0;34m(\u001B[0m\u001B[0;34m[\u001B[0m\u001B[0;34m-\u001B[0m\u001B[0;36m1\u001B[0m\u001B[0;34m,\u001B[0m \u001B[0mdata_length\u001B[0m\u001B[0;34m,\u001B[0m \u001B[0;36m1\u001B[0m\u001B[0;34m]\u001B[0m\u001B[0;34m)\u001B[0m\u001B[0;34m\u001B[0m\u001B[0;34m\u001B[0m\u001B[0m\n",
      "\u001B[0;32m/anaconda/envs/py38_tensorflow/lib/python3.8/site-packages/fplearn/processing.py\u001B[0m in \u001B[0;36mmlready_data\u001B[0;34m(X, Y, random_state, *datasets)\u001B[0m\n\u001B[1;32m    477\u001B[0m     \u001B[0mclass_weights\u001B[0m \u001B[0;34m=\u001B[0m \u001B[0mcalc_class_weights\u001B[0m\u001B[0;34m(\u001B[0m\u001B[0mY\u001B[0m\u001B[0;34m)\u001B[0m\u001B[0;34m\u001B[0m\u001B[0;34m\u001B[0m\u001B[0m\n\u001B[1;32m    478\u001B[0m     \u001B[0mY_1hot\u001B[0m \u001B[0;34m=\u001B[0m \u001B[0mnp_utils\u001B[0m\u001B[0;34m.\u001B[0m\u001B[0mto_categorical\u001B[0m\u001B[0;34m(\u001B[0m\u001B[0mY\u001B[0m\u001B[0;34m,\u001B[0m \u001B[0mlen\u001B[0m\u001B[0;34m(\u001B[0m\u001B[0mclass_weights\u001B[0m\u001B[0;34m)\u001B[0m\u001B[0;34m)\u001B[0m\u001B[0;34m\u001B[0m\u001B[0;34m\u001B[0m\u001B[0m\n\u001B[0;32m--> 479\u001B[0;31m     split_datasets = multi_split(X, Y_1hot, *datasets,\n\u001B[0m\u001B[1;32m    480\u001B[0m                                  random_state=random_state)\n\u001B[1;32m    481\u001B[0m \u001B[0;34m\u001B[0m\u001B[0m\n",
      "\u001B[0;32m/anaconda/envs/py38_tensorflow/lib/python3.8/site-packages/fplearn/processing.py\u001B[0m in \u001B[0;36mmulti_split\u001B[0;34m(ratios, *datasets, **kwargs)\u001B[0m\n\u001B[1;32m    113\u001B[0m     \u001B[0;32mwhile\u001B[0m \u001B[0mlen\u001B[0m\u001B[0;34m(\u001B[0m\u001B[0mratios\u001B[0m\u001B[0;34m)\u001B[0m \u001B[0;34m>\u001B[0m \u001B[0;36m1\u001B[0m\u001B[0;34m:\u001B[0m\u001B[0;34m\u001B[0m\u001B[0;34m\u001B[0m\u001B[0m\n\u001B[1;32m    114\u001B[0m         \u001B[0mratios\u001B[0m \u001B[0;34m=\u001B[0m \u001B[0;34m[\u001B[0m\u001B[0mi\u001B[0m\u001B[0;34m/\u001B[0m\u001B[0msum\u001B[0m\u001B[0;34m(\u001B[0m\u001B[0mratios\u001B[0m\u001B[0;34m)\u001B[0m \u001B[0;32mfor\u001B[0m \u001B[0mi\u001B[0m \u001B[0;32min\u001B[0m \u001B[0mratios\u001B[0m\u001B[0;34m]\u001B[0m\u001B[0;34m\u001B[0m\u001B[0;34m\u001B[0m\u001B[0m\n\u001B[0;32m--> 115\u001B[0;31m         \u001B[0msplits\u001B[0m \u001B[0;34m=\u001B[0m \u001B[0mtrain_test_split\u001B[0m\u001B[0;34m(\u001B[0m\u001B[0;34m*\u001B[0m\u001B[0mdatasets\u001B[0m\u001B[0;34m,\u001B[0m \u001B[0mtest_size\u001B[0m\u001B[0;34m=\u001B[0m\u001B[0msum\u001B[0m\u001B[0;34m(\u001B[0m\u001B[0mratios\u001B[0m\u001B[0;34m[\u001B[0m\u001B[0;36m1\u001B[0m\u001B[0;34m:\u001B[0m\u001B[0;34m]\u001B[0m\u001B[0;34m)\u001B[0m\u001B[0;34m,\u001B[0m \u001B[0;34m**\u001B[0m\u001B[0mkwargs\u001B[0m\u001B[0;34m)\u001B[0m\u001B[0;34m\u001B[0m\u001B[0;34m\u001B[0m\u001B[0m\n\u001B[0m\u001B[1;32m    116\u001B[0m         \u001B[0mresults\u001B[0m\u001B[0;34m.\u001B[0m\u001B[0mappend\u001B[0m\u001B[0;34m(\u001B[0m\u001B[0msplits\u001B[0m\u001B[0;34m[\u001B[0m\u001B[0;34m:\u001B[0m\u001B[0;34m:\u001B[0m\u001B[0;36m2\u001B[0m\u001B[0;34m]\u001B[0m\u001B[0;34m)\u001B[0m\u001B[0;34m\u001B[0m\u001B[0;34m\u001B[0m\u001B[0m\n\u001B[1;32m    117\u001B[0m         \u001B[0mdatasets\u001B[0m \u001B[0;34m=\u001B[0m \u001B[0msplits\u001B[0m\u001B[0;34m[\u001B[0m\u001B[0;36m1\u001B[0m\u001B[0;34m:\u001B[0m\u001B[0;34m:\u001B[0m\u001B[0;36m2\u001B[0m\u001B[0;34m]\u001B[0m\u001B[0;34m\u001B[0m\u001B[0;34m\u001B[0m\u001B[0m\n",
      "\u001B[0;32m/anaconda/envs/py38_tensorflow/lib/python3.8/site-packages/sklearn/model_selection/_split.py\u001B[0m in \u001B[0;36mtrain_test_split\u001B[0;34m(test_size, train_size, random_state, shuffle, stratify, *arrays)\u001B[0m\n\u001B[1;32m   2170\u001B[0m         \u001B[0;32mraise\u001B[0m \u001B[0mValueError\u001B[0m\u001B[0;34m(\u001B[0m\u001B[0;34m\"At least one array required as input\"\u001B[0m\u001B[0;34m)\u001B[0m\u001B[0;34m\u001B[0m\u001B[0;34m\u001B[0m\u001B[0m\n\u001B[1;32m   2171\u001B[0m \u001B[0;34m\u001B[0m\u001B[0m\n\u001B[0;32m-> 2172\u001B[0;31m     \u001B[0marrays\u001B[0m \u001B[0;34m=\u001B[0m \u001B[0mindexable\u001B[0m\u001B[0;34m(\u001B[0m\u001B[0;34m*\u001B[0m\u001B[0marrays\u001B[0m\u001B[0;34m)\u001B[0m\u001B[0;34m\u001B[0m\u001B[0;34m\u001B[0m\u001B[0m\n\u001B[0m\u001B[1;32m   2173\u001B[0m \u001B[0;34m\u001B[0m\u001B[0m\n\u001B[1;32m   2174\u001B[0m     \u001B[0mn_samples\u001B[0m \u001B[0;34m=\u001B[0m \u001B[0m_num_samples\u001B[0m\u001B[0;34m(\u001B[0m\u001B[0marrays\u001B[0m\u001B[0;34m[\u001B[0m\u001B[0;36m0\u001B[0m\u001B[0;34m]\u001B[0m\u001B[0;34m)\u001B[0m\u001B[0;34m\u001B[0m\u001B[0;34m\u001B[0m\u001B[0m\n",
      "\u001B[0;32m/anaconda/envs/py38_tensorflow/lib/python3.8/site-packages/sklearn/utils/validation.py\u001B[0m in \u001B[0;36mindexable\u001B[0;34m(*iterables)\u001B[0m\n\u001B[1;32m    297\u001B[0m     \"\"\"\n\u001B[1;32m    298\u001B[0m     \u001B[0mresult\u001B[0m \u001B[0;34m=\u001B[0m \u001B[0;34m[\u001B[0m\u001B[0m_make_indexable\u001B[0m\u001B[0;34m(\u001B[0m\u001B[0mX\u001B[0m\u001B[0;34m)\u001B[0m \u001B[0;32mfor\u001B[0m \u001B[0mX\u001B[0m \u001B[0;32min\u001B[0m \u001B[0miterables\u001B[0m\u001B[0;34m]\u001B[0m\u001B[0;34m\u001B[0m\u001B[0;34m\u001B[0m\u001B[0m\n\u001B[0;32m--> 299\u001B[0;31m     \u001B[0mcheck_consistent_length\u001B[0m\u001B[0;34m(\u001B[0m\u001B[0;34m*\u001B[0m\u001B[0mresult\u001B[0m\u001B[0;34m)\u001B[0m\u001B[0;34m\u001B[0m\u001B[0;34m\u001B[0m\u001B[0m\n\u001B[0m\u001B[1;32m    300\u001B[0m     \u001B[0;32mreturn\u001B[0m \u001B[0mresult\u001B[0m\u001B[0;34m\u001B[0m\u001B[0;34m\u001B[0m\u001B[0m\n\u001B[1;32m    301\u001B[0m \u001B[0;34m\u001B[0m\u001B[0m\n",
      "\u001B[0;32m/anaconda/envs/py38_tensorflow/lib/python3.8/site-packages/sklearn/utils/validation.py\u001B[0m in \u001B[0;36mcheck_consistent_length\u001B[0;34m(*arrays)\u001B[0m\n\u001B[1;32m    260\u001B[0m     \u001B[0muniques\u001B[0m \u001B[0;34m=\u001B[0m \u001B[0mnp\u001B[0m\u001B[0;34m.\u001B[0m\u001B[0munique\u001B[0m\u001B[0;34m(\u001B[0m\u001B[0mlengths\u001B[0m\u001B[0;34m)\u001B[0m\u001B[0;34m\u001B[0m\u001B[0;34m\u001B[0m\u001B[0m\n\u001B[1;32m    261\u001B[0m     \u001B[0;32mif\u001B[0m \u001B[0mlen\u001B[0m\u001B[0;34m(\u001B[0m\u001B[0muniques\u001B[0m\u001B[0;34m)\u001B[0m \u001B[0;34m>\u001B[0m \u001B[0;36m1\u001B[0m\u001B[0;34m:\u001B[0m\u001B[0;34m\u001B[0m\u001B[0;34m\u001B[0m\u001B[0m\n\u001B[0;32m--> 262\u001B[0;31m         raise ValueError(\"Found input variables with inconsistent numbers of\"\n\u001B[0m\u001B[1;32m    263\u001B[0m                          \" samples: %r\" % [int(l) for l in lengths])\n\u001B[1;32m    264\u001B[0m \u001B[0;34m\u001B[0m\u001B[0m\n",
      "\u001B[0;31mValueError\u001B[0m: Found input variables with inconsistent numbers of samples: [169918, 20, 40, 20, 40, 40, 20]"
     ]
    }
   ],
   "source": [
    "data_length = 1000\n",
    "(Xt, Xv, Xe, Yt, Yv, Ye, \\\n",
    " ft, fv, fe, rt, rv, re, mt, mv, me, st, sv, se, wt, wv, we), cw = \\\n",
    "    mlready_data(data, labels, files, raw, mid, seg, wave)\n",
    "Xt = Xt.reshape([-1, data_length, 1])\n",
    "Xv = Xv.reshape([-1, data_length, 1])\n",
    "Xe = Xe.reshape([-1, data_length, 1])"
   ]
  },
  {
   "cell_type": "code",
   "execution_count": null,
   "metadata": {},
   "outputs": [],
   "source": [
    "#classes_short = ['Pollen_beetle', 'Drosophilidae', 'Honeybee', 'Greenhouse rove beetle', 'Cabbage steam weevil'] # list(species.keys())"
   ]
  },
  {
   "cell_type": "code",
   "execution_count": null,
   "metadata": {},
   "outputs": [],
   "source": [
    "model, params = run_model(Xt, Xv, Yt, Yv, class_weights=cw,\n",
    "                          batch_size=200, epochs=300, stop_patience=10, learning_rate=0.0005)\n",
    "model.save('/home/frth/notebooks/syngenta/model/multi_class_1000_w_1014_2')\n",
    "\n",
    "#model = keras.models.load_model('/home/frth/notebooks/syngenta/model')"
   ]
  },
  {
   "cell_type": "code",
   "execution_count": null,
   "metadata": {},
   "outputs": [],
   "source": [
    "classes_short = ['Pollen beetles'] + list(species.keys())[2:]\n",
    "plt.figure(figsize=(15,15))\n",
    "evals = evaluate_model(model, model.history.history, Xe.astype(float), Ye, classes_short)"
   ]
  },
  {
   "cell_type": "code",
   "execution_count": null,
   "metadata": {},
   "outputs": [],
   "source": [
    "params.update({\"sessions\": str(session_groups),\n",
    "               \"test_accuracy\": evals[-1][-1]})\n",
    "params.pop('callbacks')"
   ]
  },
  {
   "cell_type": "code",
   "execution_count": null,
   "metadata": {
    "pycharm": {
     "name": "#%%\n"
    }
   },
   "outputs": [],
   "source": [
    "from fplearn.tsne import TSNEplot\n",
    "oom = 1000\n",
    "plt.figure(figsize=(12,8))\n",
    "tsne = TSNEplot(Xt[:oom], Yt[:oom], model, classes=classes_short)\n",
    "tsne.fit()\n",
    "tsne.plot()\n",
    "plt.gca().set_xlabel('test')\n",
    "plt.gcf().set_size_inches(18.5, 10.5)\n",
    "tsne_fig = plt.gcf()"
   ]
  }
 ],
 "metadata": {
  "interpreter": {
   "hash": "4082b4c0ff6287cfc869426458e61daf0f96e72318d7dae093de8e29c11fa2fe"
  },
  "kernelspec": {
   "display_name": "Python 3.8.5 64-bit ('fp_env': conda)",
   "name": "python3"
  },
  "language_info": {
   "codemirror_mode": {
    "name": "ipython",
    "version": 3
   },
   "file_extension": ".py",
   "mimetype": "text/x-python",
   "name": "python",
   "nbconvert_exporter": "python",
   "pygments_lexer": "ipython3",
   "version": "3.8.5"
  },
  "orig_nbformat": 2
 },
 "nbformat": 4,
 "nbformat_minor": 2
}